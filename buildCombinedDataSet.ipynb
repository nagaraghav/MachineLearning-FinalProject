{
 "cells": [
  {
   "cell_type": "code",
   "execution_count": 2,
   "metadata": {},
   "outputs": [],
   "source": [
    "import pandas as pd"
   ]
  },
  {
   "cell_type": "code",
   "execution_count": 3,
   "metadata": {},
   "outputs": [],
   "source": [
    "import plotly.express as px\n",
    "import plotly.graph_objects as go"
   ]
  },
  {
   "cell_type": "code",
   "execution_count": 4,
   "metadata": {},
   "outputs": [],
   "source": [
    "cindy_weather = pd.read_csv('./dataset/weather.csv')"
   ]
  },
  {
   "cell_type": "code",
   "execution_count": 5,
   "metadata": {},
   "outputs": [
    {
     "data": {
      "text/plain": [
       "(5495, 24)"
      ]
     },
     "execution_count": 5,
     "metadata": {},
     "output_type": "execute_result"
    }
   ],
   "source": [
    "cindy_weather.shape"
   ]
  },
  {
   "cell_type": "code",
   "execution_count": 19,
   "metadata": {},
   "outputs": [
    {
     "data": {
      "text/plain": [
       "array([94107, 94063, 94301, 94041, 95113], dtype=int64)"
      ]
     },
     "execution_count": 19,
     "metadata": {},
     "output_type": "execute_result"
    }
   ],
   "source": [
    "cindy_weather['zip_code'].unique()"
   ]
  },
  {
   "cell_type": "code",
   "execution_count": 38,
   "metadata": {},
   "outputs": [],
   "source": [
    "zip2latlong = {94107:(37.7680296,-122.4096411), \n",
    "               94063:(37.5018464,-122.240711), \n",
    "               94301:(37.4417477,-122.1685752), \n",
    "               94041:(37.4130314,-122.0977141), \n",
    "               95113:(37.3331982,-121.9014242)}"
   ]
  },
  {
   "cell_type": "code",
   "execution_count": 20,
   "metadata": {},
   "outputs": [],
   "source": [
    "station1 = pd.read_csv('./dataset/train_station.csv')\n",
    "station2 = pd.read_csv('./dataset/test_station.csv')"
   ]
  },
  {
   "cell_type": "code",
   "execution_count": 22,
   "metadata": {},
   "outputs": [],
   "source": [
    "all_station = pd.concat([station1,station2],sort=False)"
   ]
  },
  {
   "cell_type": "code",
   "execution_count": 31,
   "metadata": {},
   "outputs": [],
   "source": [
    "all_station = all_station.groupby('name').agg('first')"
   ]
  },
  {
   "cell_type": "code",
   "execution_count": 36,
   "metadata": {},
   "outputs": [],
   "source": [
    "lat_long = all_station[['lat','long']].to_numpy()"
   ]
  },
  {
   "cell_type": "code",
   "execution_count": 42,
   "metadata": {},
   "outputs": [],
   "source": [
    "res = []\n",
    "for l in lat_long:\n",
    "    mindistzip = -1\n",
    "    mindist = 100000\n",
    "    for z in zip2latlong:\n",
    "        dic = zip2latlong[z]\n",
    "        d = (dic[0]-l[0])**2 + (dic[1]-l[1])**2\n",
    "        if d < mindist:\n",
    "            mindist = d\n",
    "            mindistzip = z\n",
    "    res.append(mindistzip)\n",
    "\n",
    "\n",
    "all_station['city'] = res\n",
    "station_city_dict = dict((k,v) for k,v in zip(all_station.index, res))"
   ]
  },
  {
   "cell_type": "code",
   "execution_count": 53,
   "metadata": {},
   "outputs": [
    {
     "data": {
      "text/plain": [
       "{'2nd at Folsom': 94107,\n",
       " '2nd at South Park': 94107,\n",
       " '2nd at Townsend': 94107,\n",
       " '5th S. at E. San Salvador St': 95113,\n",
       " '5th St at Folsom St': 94107,\n",
       " '5th at Howard': 94107,\n",
       " 'Adobe on Almaden': 95113,\n",
       " 'Arena Green / SAP Center': 95113,\n",
       " 'Beale at Market': 94107,\n",
       " 'Broadway St at Battery St': 94107,\n",
       " 'California Ave Caltrain Station': 94301,\n",
       " 'Castro Street and El Camino Real': 94041,\n",
       " 'Charleston Park/ North Bayshore Area': 94041,\n",
       " 'Civic Center BART (7th at Market)': 94107,\n",
       " 'Clay at Battery': 94107,\n",
       " 'Commercial at Montgomery': 94107,\n",
       " 'Cowper at University': 94301,\n",
       " 'Cyril Magnin St at Ellis St': 94107,\n",
       " 'Davis at Jackson': 94107,\n",
       " 'Embarcadero at Bryant': 94107,\n",
       " 'Embarcadero at Folsom': 94107,\n",
       " 'Embarcadero at Sansome': 94107,\n",
       " 'Embarcadero at Vallejo': 94107,\n",
       " 'Evelyn Park and Ride': 94041,\n",
       " 'Franklin at Maple': 94063,\n",
       " 'Golden Gate at Polk': 94107,\n",
       " 'Grant Avenue at Columbus Avenue': 94107,\n",
       " 'Harry Bridges Plaza (Ferry Building)': 94107,\n",
       " 'Howard at 2nd': 94107,\n",
       " 'Japantown': 95113,\n",
       " 'MLK Library': 95113,\n",
       " 'Market at 10th': 94107,\n",
       " 'Market at 4th': 94107,\n",
       " 'Market at Sansome': 94107,\n",
       " 'Mechanics Plaza (Market at Battery)': 94107,\n",
       " 'Mezes Park': 94063,\n",
       " 'Middlefield Light Rail Station': 94041,\n",
       " 'Mountain View Caltrain Station': 94041,\n",
       " 'Mountain View City Hall': 94041,\n",
       " 'Palo Alto Caltrain Station': 94301,\n",
       " 'Park at Olive': 94301,\n",
       " 'Paseo de San Antonio': 95113,\n",
       " 'Post at Kearney': 94107,\n",
       " 'Powell Street BART': 94107,\n",
       " 'Powell at Post (Union Square)': 94107,\n",
       " 'Redwood City Caltrain Station': 94063,\n",
       " 'Redwood City Medical Center': 94063,\n",
       " 'Redwood City Public Library': 94063,\n",
       " 'Rengstorff Avenue / California Street': 94041,\n",
       " 'Ryland Park': 95113,\n",
       " 'S. Market st at Park Ave': 95113,\n",
       " 'SJSU - San Salvador at 9th': 95113,\n",
       " 'SJSU 4th at San Carlos': 95113,\n",
       " 'San Antonio Caltrain Station': 94041,\n",
       " 'San Antonio Shopping Center': 94041,\n",
       " 'San Francisco Caltrain (Townsend at 4th)': 94107,\n",
       " 'San Francisco Caltrain 2 (330 Townsend)': 94107,\n",
       " 'San Francisco City Hall': 94107,\n",
       " 'San Jose City Hall': 95113,\n",
       " 'San Jose Civic Center': 95113,\n",
       " 'San Jose Diridon Caltrain Station': 95113,\n",
       " 'San Mateo County Center': 94063,\n",
       " 'San Pedro Square': 95113,\n",
       " 'San Salvador at 1st': 95113,\n",
       " 'Santa Clara County Civic Center': 95113,\n",
       " 'Santa Clara at Almaden': 95113,\n",
       " 'South Van Ness at Market': 94107,\n",
       " 'Spear at Folsom': 94107,\n",
       " 'St James Park': 95113,\n",
       " 'Stanford in Redwood City': 94063,\n",
       " 'Steuart at Market': 94107,\n",
       " 'Temporary Transbay Terminal (Howard at Beale)': 94107,\n",
       " 'Townsend at 7th': 94107,\n",
       " 'University and Emerson': 94301,\n",
       " 'Washington at Kearney': 94107,\n",
       " 'Yerba Buena Center of the Arts (3rd @ Howard)': 94107}"
      ]
     },
     "execution_count": 53,
     "metadata": {},
     "output_type": "execute_result"
    }
   ],
   "source": [
    "station_city_dict"
   ]
  },
  {
   "cell_type": "code",
   "execution_count": 44,
   "metadata": {},
   "outputs": [],
   "source": [
    "all_trips = pd.read_csv('./dataset/all_trips.csv')"
   ]
  },
  {
   "cell_type": "code",
   "execution_count": 63,
   "metadata": {},
   "outputs": [],
   "source": [
    "trip_stations = all_trips['start_station_name'].unique()"
   ]
  },
  {
   "cell_type": "code",
   "execution_count": 54,
   "metadata": {},
   "outputs": [],
   "source": [
    "out_of_list_mapping = {}\n",
    "\n",
    "for i in trip_stations:\n",
    "    if i not in station_city_dict:\n",
    "        out_of_list_mapping[i]=\"\""
   ]
  },
  {
   "cell_type": "code",
   "execution_count": 59,
   "metadata": {},
   "outputs": [
    {
     "data": {
      "text/plain": [
       "start_station_name\n",
       "5th S at E. San Salvador St        19\n",
       "5th St at E. San Salvador St        1\n",
       "Broadway at Main                   67\n",
       "Kaiser Hospital                   147\n",
       "Mezes                             119\n",
       "Post at Kearny                  11308\n",
       "S. Market St at Park Ave           84\n",
       "San Jose Government Center         23\n",
       "Sequoia Hospital                   15\n",
       "Washington at Kearny             7136\n",
       "dtype: int64"
      ]
     },
     "execution_count": 59,
     "metadata": {},
     "output_type": "execute_result"
    }
   ],
   "source": [
    "all_trips[all_trips['start_station_name'].isin(out_of_list_mapping.keys())].groupby('start_station_name').size()"
   ]
  },
  {
   "cell_type": "code",
   "execution_count": 55,
   "metadata": {},
   "outputs": [
    {
     "data": {
      "text/plain": [
       "{'5th S at E. San Salvador St': '',\n",
       " '5th St at E. San Salvador St': '',\n",
       " 'Broadway at Main': '',\n",
       " 'Kaiser Hospital': '',\n",
       " 'Mezes': '',\n",
       " 'Post at Kearny': '',\n",
       " 'S. Market St at Park Ave': '',\n",
       " 'San Jose Government Center': '',\n",
       " 'Sequoia Hospital': '',\n",
       " 'Washington at Kearny': ''}"
      ]
     },
     "execution_count": 55,
     "metadata": {},
     "output_type": "execute_result"
    }
   ],
   "source": [
    "out_of_list_mapping"
   ]
  },
  {
   "cell_type": "code",
   "execution_count": 60,
   "metadata": {},
   "outputs": [],
   "source": [
    "out_of_list_mapping['5th S at E. San Salvador St'] = '5th S. at E. San Salvador St'\n",
    "out_of_list_mapping['5th St at E. San Salvador St'] = '5th S. at E. San Salvador St'\n",
    "out_of_list_mapping['Broadway at Main'] = 'Broadway St at Battery St'\n",
    "out_of_list_mapping['Post at Kearny'] = 'Washington at Kearney'\n",
    "out_of_list_mapping['Washington at Kearny'] = 'Washington at Kearney'\n",
    "# Can't find corresponding station, but its in SF anyway\n",
    "out_of_list_mapping['Kaiser Hospital'] = 'San Francisco City Hall'\n",
    "out_of_list_mapping['Mezes'] = 'Mezes Park'\n",
    "out_of_list_mapping['S. Market St at Park Ave'] = 'S. Market st at Park Ave'\n",
    "# Government Center is in fucking phillipin\n",
    "out_of_list_mapping['San Jose Government Center'] = 'San Jose City Hall'\n",
    "# Its in redwood city\n",
    "out_of_list_mapping['Sequoia Hospital'] = 'Stanford in Redwood City'"
   ]
  },
  {
   "cell_type": "code",
   "execution_count": 61,
   "metadata": {},
   "outputs": [
    {
     "data": {
      "text/plain": [
       "{'5th S at E. San Salvador St': '5th S. at E. San Salvador St',\n",
       " '5th St at E. San Salvador St': '5th S. at E. San Salvador St',\n",
       " 'Broadway at Main': 'Broadway St at Battery St',\n",
       " 'Kaiser Hospital': 'San Francisco City Hall',\n",
       " 'Mezes': 'Mezes Park',\n",
       " 'Post at Kearny': 'Washington at Kearney',\n",
       " 'S. Market St at Park Ave': 'S. Market st at Park Ave',\n",
       " 'San Jose Government Center': 'San Jose City Hall',\n",
       " 'Sequoia Hospital': 'Stanford in Redwood City',\n",
       " 'Washington at Kearny': 'Washington at Kearney'}"
      ]
     },
     "execution_count": 61,
     "metadata": {},
     "output_type": "execute_result"
    }
   ],
   "source": [
    "out_of_list_mapping"
   ]
  },
  {
   "cell_type": "code",
   "execution_count": 62,
   "metadata": {},
   "outputs": [],
   "source": [
    "all_trips.replace({'start_station_name': out_of_list_mapping}, inplace=True)"
   ]
  },
  {
   "cell_type": "code",
   "execution_count": 65,
   "metadata": {},
   "outputs": [
    {
     "data": {
      "text/plain": [
       "(76,)"
      ]
     },
     "execution_count": 65,
     "metadata": {},
     "output_type": "execute_result"
    }
   ],
   "source": [
    "all_trips['start_station_name'].unique().shape"
   ]
  },
  {
   "cell_type": "code",
   "execution_count": 68,
   "metadata": {},
   "outputs": [
    {
     "data": {
      "text/plain": [
       "983648"
      ]
     },
     "execution_count": 68,
     "metadata": {},
     "output_type": "execute_result"
    }
   ],
   "source": [
    "cty_zip = []\n",
    "for i in all_trips['start_station_name']:\n",
    "    cty_zip.append(station_city_dict[i])\n",
    "len(cty_zip)"
   ]
  },
  {
   "cell_type": "code",
   "execution_count": 69,
   "metadata": {},
   "outputs": [],
   "source": [
    "all_trips['city_zip'] = cty_zip"
   ]
  },
  {
   "cell_type": "code",
   "execution_count": 70,
   "metadata": {},
   "outputs": [],
   "source": [
    "all_trips.to_csv('./dataset/cityzip_trips.csv')"
   ]
  },
  {
   "cell_type": "code",
   "execution_count": null,
   "metadata": {},
   "outputs": [],
   "source": []
  }
 ],
 "metadata": {
  "kernelspec": {
   "display_name": "Python 3",
   "language": "python",
   "name": "python3"
  },
  "language_info": {
   "codemirror_mode": {
    "name": "ipython",
    "version": 3
   },
   "file_extension": ".py",
   "mimetype": "text/x-python",
   "name": "python",
   "nbconvert_exporter": "python",
   "pygments_lexer": "ipython3",
   "version": "3.5.4"
  }
 },
 "nbformat": 4,
 "nbformat_minor": 2
}
