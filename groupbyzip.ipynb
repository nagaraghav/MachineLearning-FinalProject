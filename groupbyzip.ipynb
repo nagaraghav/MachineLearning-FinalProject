{
 "cells": [
  {
   "cell_type": "code",
   "execution_count": 1,
   "metadata": {},
   "outputs": [],
   "source": [
    "import pandas as pd"
   ]
  },
  {
   "cell_type": "code",
   "execution_count": 7,
   "metadata": {},
   "outputs": [],
   "source": [
    "trips = pd.read_csv('./dataset/cityzip_trips.csv')\n",
    "weather = pd.read_csv('./dataset/weather.csv')"
   ]
  },
  {
   "cell_type": "code",
   "execution_count": 11,
   "metadata": {
    "scrolled": true
   },
   "outputs": [
    {
     "data": {
      "text/plain": [
       "Index(['trip_id', 'duration', 'start_date', 'start_station_name',\n",
       "       'start_station_id', 'end_date', 'end_station_name', 'end_station_id',\n",
       "       'bike_id', 'subscription_type', 'zip_code', 'city_zip'],\n",
       "      dtype='object')"
      ]
     },
     "execution_count": 11,
     "metadata": {},
     "output_type": "execute_result"
    }
   ],
   "source": [
    "trips.columns"
   ]
  },
  {
   "cell_type": "code",
   "execution_count": 13,
   "metadata": {},
   "outputs": [],
   "source": [
    "min_trips = trips[['start_date', 'city_zip']]"
   ]
  },
  {
   "cell_type": "code",
   "execution_count": 16,
   "metadata": {},
   "outputs": [
    {
     "name": "stderr",
     "output_type": "stream",
     "text": [
      "d:\\env\\python\\lib\\site-packages\\ipykernel_launcher.py:1: SettingWithCopyWarning: \n",
      "A value is trying to be set on a copy of a slice from a DataFrame.\n",
      "Try using .loc[row_indexer,col_indexer] = value instead\n",
      "\n",
      "See the caveats in the documentation: http://pandas.pydata.org/pandas-docs/stable/user_guide/indexing.html#returning-a-view-versus-a-copy\n",
      "  \"\"\"Entry point for launching an IPython kernel.\n"
     ]
    }
   ],
   "source": [
    "min_trips['date'] = pd.to_datetime(min_trips['start_date']).dt.date"
   ]
  },
  {
   "cell_type": "code",
   "execution_count": 20,
   "metadata": {},
   "outputs": [
    {
     "name": "stderr",
     "output_type": "stream",
     "text": [
      "d:\\env\\python\\lib\\site-packages\\pandas\\core\\frame.py:4117: SettingWithCopyWarning: \n",
      "A value is trying to be set on a copy of a slice from a DataFrame\n",
      "\n",
      "See the caveats in the documentation: http://pandas.pydata.org/pandas-docs/stable/user_guide/indexing.html#returning-a-view-versus-a-copy\n",
      "  errors=errors,\n"
     ]
    }
   ],
   "source": [
    "min_trips.drop('start_date',inplace=True, axis=1)"
   ]
  },
  {
   "cell_type": "code",
   "execution_count": 23,
   "metadata": {},
   "outputs": [],
   "source": [
    "groupby_zip = min_trips.groupby('city_zip')"
   ]
  },
  {
   "cell_type": "code",
   "execution_count": 58,
   "metadata": {},
   "outputs": [],
   "source": [
    "res = []\n",
    "for n,g in groupby_zip:\n",
    "    gbd = g.groupby('date').count()\n",
    "    #print(gbd['city_zip'])\n",
    "    length = gbd.size\n",
    "    gbd['date'] = gbd.index\n",
    "    gbd['trip_count'] = gbd['city_zip']\n",
    "    gbd['city_zip'] = [n] * length\n",
    "    gbd.reset_index(level=0,drop=True,inplace=True)\n",
    "    res.append(gbd)"
   ]
  },
  {
   "cell_type": "code",
   "execution_count": 59,
   "metadata": {},
   "outputs": [
    {
     "data": {
      "text/plain": [
       "[      city_zip        date  trip_count\n",
       " 0        94041  2013-08-29          12\n",
       " 1        94041  2013-08-30          18\n",
       " 2        94041  2013-08-31          23\n",
       " 3        94041  2013-09-01          16\n",
       " 4        94041  2013-09-02          10\n",
       " ...        ...         ...         ...\n",
       " 1079     94041  2016-08-27           4\n",
       " 1080     94041  2016-08-28          15\n",
       " 1081     94041  2016-08-29          27\n",
       " 1082     94041  2016-08-30          25\n",
       " 1083     94041  2016-08-31          23\n",
       " \n",
       " [1084 rows x 3 columns],      city_zip        date  trip_count\n",
       " 0       94063  2013-08-29           9\n",
       " 1       94063  2013-08-30           9\n",
       " 2       94063  2013-08-31           4\n",
       " 3       94063  2013-09-01           5\n",
       " 4       94063  2013-09-02           4\n",
       " ..        ...         ...         ...\n",
       " 889     94063  2016-06-26           1\n",
       " 890     94063  2016-06-27           2\n",
       " 891     94063  2016-06-28           2\n",
       " 892     94063  2016-06-30           2\n",
       " 893     94063  2016-07-01           1\n",
       " \n",
       " [894 rows x 3 columns],       city_zip        date  trip_count\n",
       " 0        94107  2013-08-29         642\n",
       " 1        94107  2013-08-30         606\n",
       " 2        94107  2013-08-31         557\n",
       " 3        94107  2013-09-01         601\n",
       " 4        94107  2013-09-02         594\n",
       " ...        ...         ...         ...\n",
       " 1094     94107  2016-08-27         268\n",
       " 1095     94107  2016-08-28         238\n",
       " 1096     94107  2016-08-29        1107\n",
       " 1097     94107  2016-08-30        1128\n",
       " 1098     94107  2016-08-31        1093\n",
       " \n",
       " [1099 rows x 3 columns],       city_zip        date  trip_count\n",
       " 0        94301  2013-08-29          23\n",
       " 1        94301  2013-08-30          11\n",
       " 2        94301  2013-08-31          30\n",
       " 3        94301  2013-09-01          11\n",
       " 4        94301  2013-09-02           4\n",
       " ...        ...         ...         ...\n",
       " 1065     94301  2016-08-27           1\n",
       " 1066     94301  2016-08-28           6\n",
       " 1067     94301  2016-08-29          14\n",
       " 1068     94301  2016-08-30           4\n",
       " 1069     94301  2016-08-31           5\n",
       " \n",
       " [1070 rows x 3 columns],       city_zip        date  trip_count\n",
       " 0        95113  2013-08-29          62\n",
       " 1        95113  2013-08-30          70\n",
       " 2        95113  2013-08-31          26\n",
       " 3        95113  2013-09-01          73\n",
       " 4        95113  2013-09-02          49\n",
       " ...        ...         ...         ...\n",
       " 1093     95113  2016-08-27          18\n",
       " 1094     95113  2016-08-28          26\n",
       " 1095     95113  2016-08-29          48\n",
       " 1096     95113  2016-08-30          56\n",
       " 1097     95113  2016-08-31          55\n",
       " \n",
       " [1098 rows x 3 columns]]"
      ]
     },
     "execution_count": 59,
     "metadata": {},
     "output_type": "execute_result"
    }
   ],
   "source": [
    "res"
   ]
  },
  {
   "cell_type": "code",
   "execution_count": 60,
   "metadata": {},
   "outputs": [],
   "source": [
    "data_set = pd.concat(res)"
   ]
  },
  {
   "cell_type": "code",
   "execution_count": 62,
   "metadata": {},
   "outputs": [],
   "source": [
    "data_set.to_csv('./dataset/groupedByZip_count.csv')"
   ]
  },
  {
   "cell_type": "code",
   "execution_count": null,
   "metadata": {},
   "outputs": [],
   "source": []
  }
 ],
 "metadata": {
  "kernelspec": {
   "display_name": "Python 3",
   "language": "python",
   "name": "python3"
  },
  "language_info": {
   "codemirror_mode": {
    "name": "ipython",
    "version": 3
   },
   "file_extension": ".py",
   "mimetype": "text/x-python",
   "name": "python",
   "nbconvert_exporter": "python",
   "pygments_lexer": "ipython3",
   "version": "3.5.4"
  }
 },
 "nbformat": 4,
 "nbformat_minor": 2
}
